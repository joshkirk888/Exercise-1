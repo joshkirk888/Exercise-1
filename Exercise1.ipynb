{
 "cells": [
  {
   "cell_type": "markdown",
   "metadata": {},
   "source": []
  },
  {
   "cell_type": "code",
   "execution_count": 1,
   "metadata": {},
   "outputs": [],
   "source": [
    "name = 'Joshua Kirk'"
   ]
  },
  {
   "cell_type": "code",
   "execution_count": 2,
   "metadata": {},
   "outputs": [
    {
     "name": "stdout",
     "output_type": "stream",
     "text": [
      "Joshua Kirk\n"
     ]
    }
   ],
   "source": [
    "print(name)"
   ]
  },
  {
   "cell_type": "code",
   "execution_count": 3,
   "metadata": {},
   "outputs": [],
   "source": [
    "iceCreamRating = 9"
   ]
  },
  {
   "cell_type": "code",
   "execution_count": 4,
   "metadata": {},
   "outputs": [],
   "source": [
    "sleepingIndex = 0.4"
   ]
  },
  {
   "cell_type": "code",
   "execution_count": 5,
   "metadata": {},
   "outputs": [
    {
     "name": "stdout",
     "output_type": "stream",
     "text": [
      "My name is  Joshua Kirk  and I give eating ice cream a score of  9  out of 10!\n",
      "I am  Joshua Kirk  and my sleeping enjoyment index is  0.4  out of 1.0!\n"
     ]
    }
   ],
   "source": [
    "print('My name is ', name, ' and I give eating ice cream a score of ', iceCreamRating, ' out of 10!')\n",
    "print('I am ', name, ' and my sleeping enjoyment index is ', sleepingIndex, ' out of 1.0!')"
   ]
  },
  {
   "cell_type": "code",
   "execution_count": 6,
   "metadata": {},
   "outputs": [
    {
     "name": "stdout",
     "output_type": "stream",
     "text": [
      "My name is Joshua Kirk and I give eating ice cream a score of  9  out of 10!\n",
      "I am Joshua Kirk and my sleeping enjoyment index is  0.4  out of 1.0!\n"
     ]
    }
   ],
   "source": [
    "print('My name is', name, 'and I give eating ice cream a score of ', iceCreamRating, ' out of 10!')\n",
    "print('I am', name, 'and my sleeping enjoyment index is ', sleepingIndex, ' out of 1.0!')"
   ]
  },
  {
   "cell_type": "code",
   "execution_count": 7,
   "metadata": {},
   "outputs": [
    {
     "name": "stdout",
     "output_type": "stream",
     "text": [
      "My name is Joshua Kirk and I give eating ice cream a score of 9 out of 10!\n",
      "I am Joshua Kirk and my sleeping enjoyment index is 0.4 out of 1.0!\n"
     ]
    }
   ],
   "source": [
    "print('My name is', name, 'and I give eating ice cream a score of', iceCreamRating, 'out of 10!')\n",
    "print('I am', name, 'and my sleeping enjoyment index is', sleepingIndex, 'out of 1.0!')"
   ]
  },
  {
   "cell_type": "code",
   "execution_count": null,
   "metadata": {},
   "outputs": [],
   "source": []
  }
 ],
 "metadata": {
  "kernelspec": {
   "display_name": "Python 3",
   "language": "python",
   "name": "python3"
  },
  "language_info": {
   "codemirror_mode": {
    "name": "ipython",
    "version": 3
   },
   "file_extension": ".py",
   "mimetype": "text/x-python",
   "name": "python",
   "nbconvert_exporter": "python",
   "pygments_lexer": "ipython3",
   "version": "3.6.5"
  }
 },
 "nbformat": 4,
 "nbformat_minor": 2
}
